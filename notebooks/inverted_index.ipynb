{
 "cells": [
  {
   "cell_type": "markdown",
   "id": "99f3def3",
   "metadata": {},
   "source": [
    "## **Inverted Index**"
   ]
  },
  {
   "cell_type": "markdown",
   "id": "94ef6bf1",
   "metadata": {},
   "source": [
    "**1. Imports**"
   ]
  },
  {
   "cell_type": "code",
   "execution_count": null,
   "id": "9b0ffcfb",
   "metadata": {},
   "outputs": [
    {
     "ename": "ModuleNotFoundError",
     "evalue": "No module named 'app'",
     "output_type": "error",
     "traceback": [
      "\u001b[31m---------------------------------------------------------------------------\u001b[39m",
      "\u001b[31mModuleNotFoundError\u001b[39m                       Traceback (most recent call last)",
      "\u001b[36mCell\u001b[39m\u001b[36m \u001b[39m\u001b[32mIn[7]\u001b[39m\u001b[32m, line 7\u001b[39m\n\u001b[32m      4\u001b[39m \u001b[38;5;28;01mfrom\u001b[39;00m\u001b[38;5;250m \u001b[39m\u001b[34;01mwhoosh\u001b[39;00m\u001b[34;01m.\u001b[39;00m\u001b[34;01manalysis\u001b[39;00m\u001b[38;5;250m \u001b[39m\u001b[38;5;28;01mimport\u001b[39;00m StandardAnalyzer\n\u001b[32m      5\u001b[39m \u001b[38;5;28;01mfrom\u001b[39;00m\u001b[38;5;250m \u001b[39m\u001b[34;01mcollections\u001b[39;00m\u001b[38;5;250m \u001b[39m\u001b[38;5;28;01mimport\u001b[39;00m defaultdict\n\u001b[32m----> \u001b[39m\u001b[32m7\u001b[39m \u001b[38;5;28;01mfrom\u001b[39;00m\u001b[38;5;250m \u001b[39m\u001b[34;01mapp\u001b[39;00m\u001b[34;01m.\u001b[39;00m\u001b[34;01mutils\u001b[39;00m\u001b[34;01m.\u001b[39;00m\u001b[34;01mbase_dir\u001b[39;00m\u001b[38;5;250m \u001b[39m\u001b[38;5;28;01mimport\u001b[39;00m BASE_DIR\n\u001b[32m      9\u001b[39m \u001b[38;5;28;01mimport\u001b[39;00m\u001b[38;5;250m \u001b[39m\u001b[34;01msys\u001b[39;00m\n\u001b[32m     10\u001b[39m \u001b[38;5;66;03m# Level up one level directory to add app the the allowed routes\u001b[39;00m\n",
      "\u001b[31mModuleNotFoundError\u001b[39m: No module named 'app'"
     ]
    }
   ],
   "source": [
    "import os, json\n",
    "from whoosh import index\n",
    "from whoosh.fields import Schema, TEXT, ID\n",
    "from whoosh.analysis import StandardAnalyzer\n",
    "from collections import defaultdict\n",
    "\n",
    "\n",
    "import sys\n",
    "# Level up one level directory to add app the the allowed routes\n",
    "sys.path.append(os.path.abspath(os.path.join(os.getcwd(), '..')))\n",
    "from app.utils.base_dir import BASE_DIR\n"
   ]
  },
  {
   "cell_type": "markdown",
   "id": "2629e437",
   "metadata": {},
   "source": [
    "**1. Creating schema**"
   ]
  },
  {
   "cell_type": "code",
   "execution_count": 2,
   "id": "0e194bd7",
   "metadata": {},
   "outputs": [],
   "source": [
    "schema = Schema(\n",
    "    title=TEXT(stored=True),\n",
    "    content=TEXT(analyzer=StandardAnalyzer())\n",
    ")"
   ]
  },
  {
   "cell_type": "markdown",
   "id": "392917e0",
   "metadata": {},
   "source": [
    "**2. Create inverted index and save it**"
   ]
  },
  {
   "cell_type": "code",
   "execution_count": null,
   "id": "3a72b235",
   "metadata": {},
   "outputs": [],
   "source": [
    "# The Inv Idx is stored in toc format to performance\n",
    "if not os.path.exists(\"indexdir\"):\n",
    "    os.mkdir(\"indexdir\")\n",
    "ix = index.create_in(\"indexdir\", schema)"
   ]
  },
  {
   "cell_type": "markdown",
   "id": "641d1d24",
   "metadata": {},
   "source": [
    "**3. Add Documments**"
   ]
  },
  {
   "cell_type": "code",
   "execution_count": 5,
   "id": "57955a6f",
   "metadata": {},
   "outputs": [
    {
     "ename": "NameError",
     "evalue": "name 'BASE_DIR' is not defined",
     "output_type": "error",
     "traceback": [
      "\u001b[31m---------------------------------------------------------------------------\u001b[39m",
      "\u001b[31mNameError\u001b[39m                                 Traceback (most recent call last)",
      "\u001b[36mCell\u001b[39m\u001b[36m \u001b[39m\u001b[32mIn[5]\u001b[39m\u001b[32m, line 1\u001b[39m\n\u001b[32m----> \u001b[39m\u001b[32m1\u001b[39m data_path = \u001b[43mBASE_DIR\u001b[49m/\u001b[33m'\u001b[39m\u001b[33mdata\u001b[39m\u001b[33m'\u001b[39m/\u001b[33m'\u001b[39m\u001b[33mprocessed\u001b[39m\u001b[33m'\u001b[39m/\u001b[33m'\u001b[39m\u001b[33mprocessedData.json\u001b[39m\u001b[33m'\u001b[39m\n\u001b[32m      3\u001b[39m data = []\n\u001b[32m      4\u001b[39m \u001b[38;5;28;01mwith\u001b[39;00m \u001b[38;5;28mopen\u001b[39m(data_path, \u001b[33m'\u001b[39m\u001b[33mr\u001b[39m\u001b[33m'\u001b[39m) \u001b[38;5;28;01mas\u001b[39;00m f:\n",
      "\u001b[31mNameError\u001b[39m: name 'BASE_DIR' is not defined"
     ]
    }
   ],
   "source": [
    "data_path = BASE_DIR/'data'/'processed'/'processedData.json'\n",
    "\n",
    "data = []\n",
    "with open(data_path, 'r') as f:\n",
    "    data = json.load(f)\n",
    "\n",
    "writer = ix.writer()\n",
    "for dictionary in data:\n",
    "    writer.add_document(title= list(dictionary.keys())[0], content = list(dictionary.values())[0])\n",
    "writer.commit()"
   ]
  }
 ],
 "metadata": {
  "kernelspec": {
   "display_name": "venv",
   "language": "python",
   "name": "python3"
  },
  "language_info": {
   "codemirror_mode": {
    "name": "ipython",
    "version": 3
   },
   "file_extension": ".py",
   "mimetype": "text/x-python",
   "name": "python",
   "nbconvert_exporter": "python",
   "pygments_lexer": "ipython3",
   "version": "3.12.0"
  }
 },
 "nbformat": 4,
 "nbformat_minor": 5
}
