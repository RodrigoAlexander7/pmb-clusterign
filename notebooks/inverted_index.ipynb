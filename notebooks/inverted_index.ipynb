{
 "cells": [
  {
   "cell_type": "markdown",
   "id": "99f3def3",
   "metadata": {},
   "source": [
    "## **Inverted Index**"
   ]
  },
  {
   "cell_type": "markdown",
   "id": "94ef6bf1",
   "metadata": {},
   "source": [
    "**1. Imports**"
   ]
  },
  {
   "cell_type": "code",
   "execution_count": 12,
   "id": "9b0ffcfb",
   "metadata": {},
   "outputs": [],
   "source": [
    "import os, json\n",
    "from whoosh.fields import Schema, TEXT, ID\n",
    "from whoosh.analysis import StandardAnalyzer\n",
    "from whoosh import index\n",
    "from whoosh.fields import Schema, TEXT, ID\n",
    "from whoosh.qparser import QueryParser\n",
    "\n",
    "\n",
    "import sys\n",
    "# Level up one level directory to add app the the allowed routes\n",
    "sys.path.append(os.path.abspath(os.path.join(os.getcwd(), '..')))\n",
    "from app.utils.base_dir import BASE_DIR\n"
   ]
  },
  {
   "cell_type": "markdown",
   "id": "2629e437",
   "metadata": {},
   "source": [
    "**1. Creating schema**"
   ]
  },
  {
   "cell_type": "code",
   "execution_count": 9,
   "id": "0e194bd7",
   "metadata": {},
   "outputs": [],
   "source": [
    "schema = Schema(\n",
    "    title=TEXT(stored=True),\n",
    "    content=TEXT(analyzer=StandardAnalyzer())\n",
    ")"
   ]
  },
  {
   "cell_type": "markdown",
   "id": "392917e0",
   "metadata": {},
   "source": [
    "**2. Create inverted index and save it**"
   ]
  },
  {
   "cell_type": "code",
   "execution_count": 10,
   "id": "3a72b235",
   "metadata": {},
   "outputs": [],
   "source": [
    "# The Inv Idx is stored in toc format to performance\n",
    "if not os.path.exists(\"indexdir\"):\n",
    "    os.mkdir(\"indexdir\")\n",
    "ix = index.create_in(\"indexdir\", schema)"
   ]
  },
  {
   "cell_type": "markdown",
   "id": "641d1d24",
   "metadata": {},
   "source": [
    "**3. Add Documments**"
   ]
  },
  {
   "cell_type": "code",
   "execution_count": 11,
   "id": "57955a6f",
   "metadata": {},
   "outputs": [],
   "source": [
    "data_path = BASE_DIR/'data'/'processed'/'processedData.json'\n",
    "\n",
    "data = []\n",
    "with open(data_path, 'r') as f:\n",
    "    data = json.load(f)\n",
    "\n",
    "writer = ix.writer()\n",
    "for dictionary in data:\n",
    "    writer.add_document(title= list(dictionary.keys())[0], content = list(dictionary.values())[0])\n",
    "writer.commit()"
   ]
  },
  {
   "cell_type": "markdown",
   "id": "eb524458",
   "metadata": {},
   "source": [
    "**4. Testing and search**"
   ]
  },
  {
   "cell_type": "code",
   "execution_count": 13,
   "id": "86142800",
   "metadata": {},
   "outputs": [
    {
     "name": "stdout",
     "output_type": "stream",
     "text": [
      "Bone remodeling is regulated by inner ear vestibular signals\n",
      "Endocrine Effects of Space Flight\n",
      "Cortical thinning and structural bone changes in non-human primates after single-fraction whole-chest irradiation.\n",
      "Evaluating ocular response in the retina and optic nerve head after single and fractionated high-energy protons\n",
      "Rapid phenotypic response of LSMMG-'primed' Candida albicans.\n",
      "Mice in Bion-M 1 space mission: training and selection\n",
      "Response of the mouse sublingual gland to spaceflight.\n",
      "Challenges and considerations for single-cell and spatially resolved transcriptomics sample collection during spaceflight.\n",
      "A New Era for Space Life Science: International Standards for Space Omics Processing\n",
      "Evidence of spaceflight-induced adverse effects on photoreceptors and retinal function in the mouse eye.\n"
     ]
    }
   ],
   "source": [
    "with ix.searcher() as searcher:\n",
    "    query = QueryParser(\"content\", ix.schema).parse(\"mouse AND field\")\n",
    "    results = searcher.search(query)\n",
    "    for r in results:\n",
    "        print(r[\"title\"])"
   ]
  }
 ],
 "metadata": {
  "kernelspec": {
   "display_name": "venv",
   "language": "python",
   "name": "python3"
  },
  "language_info": {
   "codemirror_mode": {
    "name": "ipython",
    "version": 3
   },
   "file_extension": ".py",
   "mimetype": "text/x-python",
   "name": "python",
   "nbconvert_exporter": "python",
   "pygments_lexer": "ipython3",
   "version": "3.12.0"
  }
 },
 "nbformat": 4,
 "nbformat_minor": 5
}
