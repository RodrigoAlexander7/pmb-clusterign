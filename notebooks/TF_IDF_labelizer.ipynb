{
 "cells": [
  {
   "cell_type": "markdown",
   "id": "e80eb7c9",
   "metadata": {},
   "source": [
    "# **Label every cluster with TF-IDF**"
   ]
  },
  {
   "cell_type": "markdown",
   "id": "8d2ff219",
   "metadata": {},
   "source": [
    "### **1. Import**"
   ]
  },
  {
   "cell_type": "code",
   "execution_count": null,
   "id": "92132d9b",
   "metadata": {},
   "outputs": [],
   "source": [
    "from collections import defaultdict\n",
    "import sys\n",
    "import os\n",
    "import numpy as np\n",
    "import json\n",
    "from sklearn.feature_extraction.text import TfidfVectorizer\n",
    "# Level up one level directory to add app the the allowed routes\n",
    "sys.path.append(os.path.abspath(os.path.join(os.getcwd(), '..')))\n",
    "\n",
    "from app.utils.base_dir import BASE_DIR"
   ]
  },
  {
   "cell_type": "markdown",
   "id": "1eab24d2",
   "metadata": {},
   "source": [
    "### **2. Load the model**"
   ]
  },
  {
   "cell_type": "code",
   "execution_count": 6,
   "id": "3d644305",
   "metadata": {},
   "outputs": [],
   "source": [
    "def extract_keywords_tfidf(array_text, top_n=10):\n",
    "    vectorizer = TfidfVectorizer(\n",
    "        stop_words='english',\n",
    "        ngram_range=(1,1),\n",
    "        min_df=2,       # delete rare words \n",
    "        max_df=0.95,    # delete very common words\n",
    "    )\n",
    "    # Matriz TF-IDF: (n_docs, n_features)\n",
    "    X = vectorizer.fit_transform(array_text)\n",
    "    feature_names = np.array(vectorizer.get_feature_names_out())\n",
    "    \n",
    "    # Promedio de TF-IDF en todos los documentos\n",
    "    tfidf_mean = np.asarray(X.mean(axis=0)).flatten()\n",
    "    \n",
    "    top_indices = tfidf_mean.argsort()[::-1][:top_n]\n",
    "    keywords = feature_names[top_indices]\n",
    "    \n",
    "    return keywords.tolist()"
   ]
  },
  {
   "cell_type": "markdown",
   "id": "8d5d883f",
   "metadata": {},
   "source": [
    "### **3. Extract the keywords for cluster**"
   ]
  },
  {
   "cell_type": "markdown",
   "id": "070c795a",
   "metadata": {},
   "source": [
    "**3.2 Load the data**"
   ]
  },
  {
   "cell_type": "code",
   "execution_count": 7,
   "id": "345a278e",
   "metadata": {},
   "outputs": [],
   "source": [
    "\n",
    "no_clean_data_path = BASE_DIR/'data'/'processed'/'noCleanProcessedData.json' \n",
    "clusters_path = BASE_DIR/'data'/'processed'/'clusters.json' \n",
    "\n",
    "no_clean_data_array = []\n",
    "no_clean_data = {}\n",
    "clusters = {}\n",
    "with open(no_clean_data_path, 'r') as f:\n",
    "    no_clean_data_array = json.load(f)\n",
    "\n",
    "with open(clusters_path, 'r') as f:\n",
    "    clusters = json.load(f)\n",
    "\n",
    "def parse_to_dict(data:list):\n",
    "    for element in data:\n",
    "        for k, v in element.items():\n",
    "            no_clean_data[k] = v\n",
    "parse_to_dict(no_clean_data_array)\n"
   ]
  },
  {
   "cell_type": "markdown",
   "id": "b1cf6eb4",
   "metadata": {},
   "source": [
    "**3.3 Get cluster corpus**"
   ]
  },
  {
   "cell_type": "code",
   "execution_count": null,
   "id": "e7cde0df",
   "metadata": {},
   "outputs": [],
   "source": [
    "# like {11 : [\"text 01\", \"text 02\"]}\n",
    "clusterNumber_corpusText = defaultdict(list)\n",
    "MAX_DOCS = 4 # total 5 cause i start in 0\n",
    "\n",
    "for cluster_number, titles_list in clusters.items():\n",
    "    for i, title in enumerate(titles_list):\n",
    "        i+=1\n",
    "        if i <= MAX_DOCS:\n",
    "            clusterNumber_corpusText[cluster_number].append(no_clean_data[title])\n",
    "        else: \n",
    "            break"
   ]
  },
  {
   "cell_type": "markdown",
   "id": "7107116c",
   "metadata": {},
   "source": [
    "**3.1 Function to extract the keywords per cluster**"
   ]
  },
  {
   "cell_type": "code",
   "execution_count": null,
   "id": "6fe2f059",
   "metadata": {},
   "outputs": [],
   "source": []
  },
  {
   "cell_type": "markdown",
   "id": "c1534ec6",
   "metadata": {},
   "source": [
    "**3.2 Extract keywords for all custer's**"
   ]
  },
  {
   "cell_type": "code",
   "execution_count": null,
   "id": "14cf9b85",
   "metadata": {},
   "outputs": [],
   "source": []
  },
  {
   "cell_type": "markdown",
   "id": "44e8584c",
   "metadata": {},
   "source": [
    "**3.3 Export to Json**"
   ]
  },
  {
   "cell_type": "code",
   "execution_count": null,
   "id": "b2f4aef9",
   "metadata": {},
   "outputs": [],
   "source": []
  }
 ],
 "metadata": {
  "kernelspec": {
   "display_name": "venv",
   "language": "python",
   "name": "python3"
  },
  "language_info": {
   "codemirror_mode": {
    "name": "ipython",
    "version": 3
   },
   "file_extension": ".py",
   "mimetype": "text/x-python",
   "name": "python",
   "nbconvert_exporter": "python",
   "pygments_lexer": "ipython3",
   "version": "3.12.0"
  }
 },
 "nbformat": 4,
 "nbformat_minor": 5
}
